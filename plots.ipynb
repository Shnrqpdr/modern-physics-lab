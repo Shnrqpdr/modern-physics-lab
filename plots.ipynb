{
 "cells": [
  {
   "cell_type": "code",
   "execution_count": null,
   "metadata": {},
   "outputs": [],
   "source": [
    "import matplotlib.pyplot as plt \n",
    "import numpy as np \n",
    "import pandas as pd \n",
    "\n",
    "file = pd.read_csv(\"data/h1.0mm1.txt\", header = 0, sep='\\s+')\n",
    "\n",
    "fig1 = plt.figure(figsize=(8,6))\n",
    "\n",
    "x=np.arange(0,50,2)\n",
    "\n",
    "axes = fig1.add_axes([0.1,0.1,0.8,0.8])\n",
    "\n",
    "axes.plot(file['Posição angular (rad)'], file[\"Intensidade luz ('%' do máx escala)\"], ls='-.', marker='o',markersize=5, label=\"Lab 107-C\")\n",
    "\n",
    "axes.set_xlabel('Posição angular (rad)')\n",
    "axes.set_ylabel(\"Intensidade de luz\")\n",
    "\n",
    "axes.set_title(\"Feixe de luz para a fenda de 1.0mm\")\n",
    "\n",
    "plt.grid(linestyle='-', linewidth=0.5)\n",
    "axes.legend(loc='upper right')\n",
    "\n",
    "plt.savefig(\"h1.0mm1.png\", dpi=400)"
   ]
  }
 ],
 "metadata": {
  "language_info": {
   "name": "python"
  },
  "orig_nbformat": 4
 },
 "nbformat": 4,
 "nbformat_minor": 2
}
