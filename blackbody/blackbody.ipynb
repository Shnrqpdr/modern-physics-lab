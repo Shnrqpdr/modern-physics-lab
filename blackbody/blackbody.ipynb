{
 "cells": [
  {
   "cell_type": "code",
   "execution_count": 41,
   "metadata": {},
   "outputs": [
    {
     "ename": "IndentationError",
     "evalue": "unindent does not match any outer indentation level (<tokenize>, line 27)",
     "output_type": "error",
     "traceback": [
      "\u001b[1;36m  File \u001b[1;32m<tokenize>:27\u001b[1;36m\u001b[0m\n\u001b[1;33m    print(enc['encoding'])\u001b[0m\n\u001b[1;37m    ^\u001b[0m\n\u001b[1;31mIndentationError\u001b[0m\u001b[1;31m:\u001b[0m unindent does not match any outer indentation level\n"
     ]
    }
   ],
   "source": [
    "import chardet\n",
    "import matplotlib.pyplot as plt \n",
    "import numpy as np \n",
    "import pandas as pd\n",
    "\n",
    "fenda = 0.1\n",
    "\n",
    "voltagem = [4.0, 7.0, 9.0, 9.5, 10.0]\n",
    "corrente = [0.45, 0.56, 0.68, 0.69, 0.70]\n",
    "resistencia = 0.2\n",
    "\n",
    "resistividade = []\n",
    "temperatura = []\n",
    "\n",
    "for i in range(np.size(voltagem)):\n",
    "    resistividade.append(5.65*((voltagem[i]/corrente[i]) - resistencia)/0.93)\n",
    "    temperatura.append(103 + 38.1*resistividade[i] - 0.095*(resistividade[i]*resistividade[i]) + 0.000248*(resistividade[i]*resistividade[i]*resistividade[i]))\n",
    "    \n",
    "print(resistividade)\n",
    "print(temperatura)\n",
    "\n",
    "for volt in voltagem:\n",
    "    print(volt)\n",
    "    with open(f'data/0.1mm{volt}v.txt', 'rb') as f:\n",
    "            enc = chardet.detect(f.read())  # or readline if the file is large\n",
    "\n",
    "        print(enc['encoding'])\n",
    "        # file = pd.read_csv(f'data/0.1mm{volt}v.txt', header = 0, sep='\\s+', encoding=enc['encoding'])\n",
    "        \n",
    "        # print(file)\n",
    "        \n",
    "        \n",
    "\n"
   ]
  }
 ],
 "metadata": {
  "interpreter": {
   "hash": "369f2c481f4da34e4445cda3fffd2e751bd1c4d706f27375911949ba6bb62e1c"
  },
  "kernelspec": {
   "display_name": "Python 3.10.2 64-bit",
   "language": "python",
   "name": "python3"
  },
  "language_info": {
   "codemirror_mode": {
    "name": "ipython",
    "version": 3
   },
   "file_extension": ".py",
   "mimetype": "text/x-python",
   "name": "python",
   "nbconvert_exporter": "python",
   "pygments_lexer": "ipython3",
   "version": "3.10.2"
  },
  "orig_nbformat": 4
 },
 "nbformat": 4,
 "nbformat_minor": 2
}
