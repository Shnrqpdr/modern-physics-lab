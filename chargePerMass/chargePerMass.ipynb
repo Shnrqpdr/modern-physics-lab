{
 "cells": [
  {
   "cell_type": "code",
   "execution_count": 2,
   "metadata": {},
   "outputs": [
    {
     "name": "stdout",
     "output_type": "stream",
     "text": [
      "175882001077.2163\n",
      "1.25663706212e-06\n"
     ]
    }
   ],
   "source": [
    "import chardet\n",
    "import numpy as np\n",
    "import scipy as sp\n",
    "import scipy.constants as constants\n",
    "import pandas as pd\n",
    "\n",
    "R = 0.20\n",
    "mu_0 = constants.mu_0\n",
    "\n",
    "e = constants.e\n",
    "m_e = constants.m_e\n",
    "\n",
    "valorTeorico = e/m_e\n",
    "\n",
    "print(valorTeorico)\n",
    "print(mu_0)\n",
    "\n",
    "n = 154.0\n",
    "\n",
    "raios = [2, 3, 4, 5]\n",
    "\n",
    "amp = []\n",
    "ampPerRadius = []\n",
    "\n",
    "volt = []\n",
    "voltPerRadius = []\n",
    "\n",
    "magneticField = []    \n",
    "magneticFieldPerRadius = []\n",
    "\n",
    "for raio in raios:\n",
    "    with open(f'data/raio{raio}cm.txt', 'rb') as f:\n",
    "        enc = chardet.detect(f.read())  # or readline if the file is large\n",
    "\n",
    "    file = pd.read_csv(f'data/raio{raio}cm.txt', header = None, sep='\\s+', encoding=enc['encoding'], dtype = np.float64)\n",
    "    \n",
    "    for data in [file[0]]:\n",
    "        amp.append(data)\n",
    "        B = np.sqrt((4.0/5.0)*(4.0/5.0)*(4.0/5.0)) * ((mu_0 * n * (data))/R)\n",
    "        magneticField.append(B)\n",
    "        \n",
    "    for data in [file[1]]:\n",
    "        volt.append(data)\n",
    "        \n",
    "    magneticFieldPerRadius.append(magneticField)\n",
    "    ampPerRadius.append(amp)\n",
    "    voltPerRadius.append(volt)\n",
    "    \n",
    "    amp = []\n",
    "    volt = []\n",
    "    magneticField = []\n",
    "\n",
    "#print(ampPerRadius)\n",
    "#print(voltPerRadius)\n",
    "#print(magneticFieldPerRadius)"
   ]
  },
  {
   "cell_type": "code",
   "execution_count": 3,
   "metadata": {},
   "outputs": [
    {
     "name": "stderr",
     "output_type": "stream",
     "text": [
      "c:\\Python310\\lib\\site-packages\\numpy\\core\\fromnumeric.py:3245: VisibleDeprecationWarning: Creating an ndarray from ragged nested sequences (which is a list-or-tuple of lists-or-tuples-or ndarrays with different lengths or shapes) is deprecated. If you meant to do this, you must specify 'dtype=object' when creating the ndarray.\n",
      "  return asarray(a).size\n"
     ]
    }
   ],
   "source": [
    "raios = [0.02, 0.03, 0.04, 0.05]\n",
    "\n",
    "chargePerMassPerRadius = []\n",
    "chargePerMass = []\n",
    "\n",
    "for i in range(np.size(voltPerRadius)):\n",
    "    j = 0\n",
    "    for volt in voltPerRadius[i]:\n",
    "        CpM = 2.0*(volt)/(raios[i]*raios[i]*(magneticFieldPerRadius[i][j])*(magneticFieldPerRadius[i][j]))\n",
    "        chargePerMass.append(CpM)\n",
    "        j = j + 1\n",
    "        \n",
    "    chargePerMassPerRadius.append(chargePerMass)\n",
    "    chargePerMass = []\n",
    "    \n",
    "#print(chargePerMassPerRadius)"
   ]
  },
  {
   "cell_type": "code",
   "execution_count": 4,
   "metadata": {},
   "outputs": [],
   "source": [
    "tab = '\\t'\n",
    "\n",
    "raio = []\n",
    "volts = []\n",
    "amps = []\n",
    "mF = []\n",
    "CpM = []\n",
    "\n",
    "for i in range(np.size(chargePerMassPerRadius)):\n",
    "       \n",
    "       for volt in voltPerRadius[i]:\n",
    "              for k in range(np.size(volt)):\n",
    "                     volts.append(volt[k])\n",
    "                     \n",
    "       for amp in ampPerRadius[i]:\n",
    "              for k in range(np.size(amp)):\n",
    "                     amps.append(amp[k])\n",
    "              \n",
    "       for campo in magneticFieldPerRadius[i]:\n",
    "              for k in range(np.size(campo)):\n",
    "                     mF.append(campo[k])\n",
    "              \n",
    "       for razao in chargePerMassPerRadius[i]:\n",
    "              for k in range(np.size(razao)):\n",
    "                     CpM.append(razao[k])\n",
    "              \n",
    "       dados = {\"voltagens\": volts,\n",
    "       \"amperagens\": amps,\n",
    "       \"campo\": mF,\n",
    "       \"razaoE/M\": CpM}\n",
    "       \n",
    "       dataFrame = pd.DataFrame(dados)\n",
    "       \n",
    "       j = i + 2\n",
    "\n",
    "       dataFrame.to_csv(f'results/dadosRaio{j}cm.dat', index=False, sep=tab)\n",
    "       \n",
    "       volts = []\n",
    "       amps = []\n",
    "       mF = []\n",
    "       CpM = []   "
   ]
  },
  {
   "cell_type": "code",
   "execution_count": 5,
   "metadata": {},
   "outputs": [],
   "source": [
    "raios = [2, 3, 4, 5]\n",
    "\n",
    "for raio in raios:\n",
    "    file = pd.read_csv(f'results/dadosRaio{raio}cm.dat', header = 0, sep='\\s+', dtype = np.float64)\n",
    "    \n",
    "    media = file['razaoE/M'].mean()\n",
    "    desvioPadrao = file['razaoE/M'].std()\n",
    "    \n",
    "    erroPercentual = (abs(media - valorTeorico)/valorTeorico)*100\n",
    "    \n",
    "    resultados = {\"mediaE/M\": [media],\n",
    "    \"desvioPadraoE/M\": [desvioPadrao],\n",
    "    \"erroPercentual\": [erroPercentual]}\n",
    "    \n",
    "    dataFrame = pd.DataFrame(resultados)\n",
    "    \n",
    "    dataFrame.to_csv(f'results/resultadosRaio{raio}cm.dat', index=False, sep=tab)"
   ]
  },
  {
   "cell_type": "markdown",
   "metadata": {},
   "source": [
    "Histograma"
   ]
  },
  {
   "cell_type": "code",
   "execution_count": 46,
   "metadata": {},
   "outputs": [
    {
     "ename": "NameError",
     "evalue": "name 'mediaString' is not defined",
     "output_type": "error",
     "traceback": [
      "\u001b[1;31m---------------------------------------------------------------------------\u001b[0m",
      "\u001b[1;31mNameError\u001b[0m                                 Traceback (most recent call last)",
      "\u001b[1;32mc:\\Users\\pedro\\Projetos\\modern-physics-lab\\chargePerMass\\chargePerMass.ipynb Cell 6'\u001b[0m in \u001b[0;36m<cell line: 54>\u001b[1;34m()\u001b[0m\n\u001b[0;32m     <a href='vscode-notebook-cell:/c%3A/Users/pedro/Projetos/modern-physics-lab/chargePerMass/chargePerMass.ipynb#ch0000004?line=51'>52</a>\u001b[0m df \u001b[39m=\u001b[39m pd\u001b[39m.\u001b[39mread_csv(\u001b[39mf\u001b[39m\u001b[39m'\u001b[39m\u001b[39mresults/dados.txt\u001b[39m\u001b[39m'\u001b[39m, header \u001b[39m=\u001b[39m \u001b[39m0\u001b[39m, sep\u001b[39m=\u001b[39m\u001b[39m'\u001b[39m\u001b[39m\\\u001b[39m\u001b[39ms+\u001b[39m\u001b[39m'\u001b[39m, dtype \u001b[39m=\u001b[39m np\u001b[39m.\u001b[39mfloat64)\n\u001b[0;32m     <a href='vscode-notebook-cell:/c%3A/Users/pedro/Projetos/modern-physics-lab/chargePerMass/chargePerMass.ipynb#ch0000004?line=52'>53</a>\u001b[0m \u001b[39m# Call histogram function\u001b[39;00m\n\u001b[1;32m---> <a href='vscode-notebook-cell:/c%3A/Users/pedro/Projetos/modern-physics-lab/chargePerMass/chargePerMass.ipynb#ch0000004?line=53'>54</a>\u001b[0m histogram(\u001b[39m'\u001b[39;49m\u001b[39mfixed_bin_size\u001b[39;49m\u001b[39m'\u001b[39;49m, df[\u001b[39m'\u001b[39;49m\u001b[39mrazaoE/M\u001b[39;49m\u001b[39m'\u001b[39;49m], \u001b[39m'\u001b[39;49m\u001b[39mRazão carga massa\u001b[39;49m\u001b[39m'\u001b[39;49m, \u001b[39m'\u001b[39;49m\u001b[39mrazaoEM\u001b[39;49m\u001b[39m'\u001b[39;49m)\n",
      "\u001b[1;32mc:\\Users\\pedro\\Projetos\\modern-physics-lab\\chargePerMass\\chargePerMass.ipynb Cell 6'\u001b[0m in \u001b[0;36mhistogram\u001b[1;34m(type_hist, data, varname, place)\u001b[0m\n\u001b[0;32m      <a href='vscode-notebook-cell:/c%3A/Users/pedro/Projetos/modern-physics-lab/chargePerMass/chargePerMass.ipynb#ch0000004?line=5'>6</a>\u001b[0m \u001b[39m\"\"\"\u001b[39;00m\n\u001b[0;32m      <a href='vscode-notebook-cell:/c%3A/Users/pedro/Projetos/modern-physics-lab/chargePerMass/chargePerMass.ipynb#ch0000004?line=6'>7</a>\u001b[0m \u001b[39mPlot histogram from given list values.\u001b[39;00m\n\u001b[0;32m      <a href='vscode-notebook-cell:/c%3A/Users/pedro/Projetos/modern-physics-lab/chargePerMass/chargePerMass.ipynb#ch0000004?line=7'>8</a>\u001b[0m \u001b[39mHistogram types: fixed_bin_size or fixed_number_bins\u001b[39;00m\n\u001b[0;32m      <a href='vscode-notebook-cell:/c%3A/Users/pedro/Projetos/modern-physics-lab/chargePerMass/chargePerMass.ipynb#ch0000004?line=8'>9</a>\u001b[0m \u001b[39m\"\"\"\u001b[39;00m\n\u001b[0;32m     <a href='vscode-notebook-cell:/c%3A/Users/pedro/Projetos/modern-physics-lab/chargePerMass/chargePerMass.ipynb#ch0000004?line=9'>10</a>\u001b[0m \u001b[39m# media = float(data.mean())\u001b[39;00m\n\u001b[0;32m     <a href='vscode-notebook-cell:/c%3A/Users/pedro/Projetos/modern-physics-lab/chargePerMass/chargePerMass.ipynb#ch0000004?line=10'>11</a>\u001b[0m \u001b[39m# maximo = float(max(data))\u001b[39;00m\n\u001b[0;32m     <a href='vscode-notebook-cell:/c%3A/Users/pedro/Projetos/modern-physics-lab/chargePerMass/chargePerMass.ipynb#ch0000004?line=11'>12</a>\u001b[0m \n\u001b[1;32m   (...)\u001b[0m\n\u001b[0;32m     <a href='vscode-notebook-cell:/c%3A/Users/pedro/Projetos/modern-physics-lab/chargePerMass/chargePerMass.ipynb#ch0000004?line=15'>16</a>\u001b[0m \u001b[39m# mediaString = 'Média = %.f' % mediaFormatada\u001b[39;00m\n\u001b[0;32m     <a href='vscode-notebook-cell:/c%3A/Users/pedro/Projetos/modern-physics-lab/chargePerMass/chargePerMass.ipynb#ch0000004?line=16'>17</a>\u001b[0m \u001b[39m# maxString = 'Máximo = %.s' % maxFormatado\u001b[39;00m\n\u001b[1;32m---> <a href='vscode-notebook-cell:/c%3A/Users/pedro/Projetos/modern-physics-lab/chargePerMass/chargePerMass.ipynb#ch0000004?line=18'>19</a>\u001b[0m \u001b[39mprint\u001b[39m(mediaString)\n\u001b[0;32m     <a href='vscode-notebook-cell:/c%3A/Users/pedro/Projetos/modern-physics-lab/chargePerMass/chargePerMass.ipynb#ch0000004?line=19'>20</a>\u001b[0m \u001b[39mprint\u001b[39m(maxString)\n\u001b[0;32m     <a href='vscode-notebook-cell:/c%3A/Users/pedro/Projetos/modern-physics-lab/chargePerMass/chargePerMass.ipynb#ch0000004?line=21'>22</a>\u001b[0m figname \u001b[39m=\u001b[39m \u001b[39m'\u001b[39m\u001b[39mhist_\u001b[39m\u001b[39m%s\u001b[39;00m\u001b[39m.png\u001b[39m\u001b[39m'\u001b[39m \u001b[39m%\u001b[39mplace\n",
      "\u001b[1;31mNameError\u001b[0m: name 'mediaString' is not defined"
     ]
    }
   ],
   "source": [
    "import numpy as np\n",
    "import pandas as pd\n",
    "import matplotlib.pyplot as plt\n",
    "# Define functions\n",
    "def histogram(type_hist, data, varname, place):\n",
    "    \"\"\"\n",
    "    Plot histogram from given list values.\n",
    "    Histogram types: fixed_bin_size or fixed_number_bins\n",
    "    \"\"\"\n",
    "    # media = float(data.mean())\n",
    "    # maximo = float(max(data))\n",
    "    \n",
    "    # mediaFormatada = f\"{media:.1E}\"\n",
    "    # maxFormatado = format(maximo, '.2E')\n",
    "    \n",
    "    # mediaString = 'Média = %.f' % mediaFormatada\n",
    "    # maxString = 'Máximo = %.s' % maxFormatado\n",
    "    \n",
    "    # print(mediaString)\n",
    "    # print(maxString)\n",
    "    \n",
    "    figname = 'hist_%s.png' %place\n",
    "    # text = 'Média = %.s\\nmáximo = %.s' % (mediaString, maxString)\n",
    "    \n",
    "    fig1 = plt.figure(figsize=(8,6))\n",
    "    axes = fig1.add_axes([0.1,0.1,0.8,0.8])\n",
    "    \n",
    "    n_bins = 30\n",
    "    bin_size = 5\n",
    "\n",
    "    if type_hist == 'fixed_bin_size':\n",
    "        bins = np.arange(0, 100, bin_size)\n",
    "    elif type_hist == 'fixed_number_bins':\n",
    "        bins = np.linspace(math.ceil(min(data)), math.floor(max(data)), n_bins)\n",
    "        \n",
    "    axes.hist(data, bins=bins, color='#1f77b4')\n",
    "    \n",
    "    axes.set_xlabel(varname)\n",
    "\n",
    "    axes.set_title(f'Histograma dos dados obtidos para a razão carga massa do elétron')\n",
    "\n",
    "    plt.grid(axis='y', linestyle='-', linewidth=0.5)\n",
    "\n",
    "    plt.xlim([min(data)-5, max(data)+5])\n",
    "    plt.hist(data)\n",
    "    \n",
    "    ax = plt.gca() # Get axis handle for text positioning\n",
    "    #plt.text(0.05, 0.95, text, horizontalalignment='left', verticalalignment='top', transform=ax.transAxes)\n",
    "    plt.savefig(figname, dpi=400)\n",
    "    # plt.close()\n",
    "# Import CSV file into pandas dataframe\n",
    "df = pd.read_csv(f'results/dados.txt', header = 0, sep='\\s+', dtype = np.float64)\n",
    "# Call histogram function\n",
    "histogram('fixed_bin_size', df['razaoE/M'], 'Razão carga massa', 'razaoEM')\n",
    "# df['razaoE/M'].hist()"
   ]
  }
 ],
 "metadata": {
  "kernelspec": {
   "display_name": "Python 3.10.2 64-bit",
   "language": "python",
   "name": "python3"
  },
  "language_info": {
   "codemirror_mode": {
    "name": "ipython",
    "version": 3
   },
   "file_extension": ".py",
   "mimetype": "text/x-python",
   "name": "python",
   "nbconvert_exporter": "python",
   "pygments_lexer": "ipython3",
   "version": "3.10.2"
  },
  "orig_nbformat": 4,
  "vscode": {
   "interpreter": {
    "hash": "369f2c481f4da34e4445cda3fffd2e751bd1c4d706f27375911949ba6bb62e1c"
   }
  }
 },
 "nbformat": 4,
 "nbformat_minor": 2
}
