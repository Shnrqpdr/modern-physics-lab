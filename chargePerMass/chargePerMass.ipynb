{
 "cells": [
  {
   "cell_type": "code",
   "execution_count": 63,
   "metadata": {},
   "outputs": [
    {
     "name": "stdout",
     "output_type": "stream",
     "text": [
      "175882001077.2163\n",
      "1.25663706212e-06\n"
     ]
    }
   ],
   "source": [
    "import chardet\n",
    "import numpy as np\n",
    "import scipy as sp\n",
    "import scipy.constants as constants\n",
    "import pandas as pd\n",
    "\n",
    "R = 0.20\n",
    "mu_0 = constants.mu_0\n",
    "\n",
    "e = constants.e\n",
    "m_e = constants.m_e\n",
    "\n",
    "valorTeorico = e/m_e\n",
    "\n",
    "print(valorTeorico)\n",
    "print(mu_0)\n",
    "\n",
    "n = 154.0\n",
    "\n",
    "raios = [2, 3, 4, 5]\n",
    "\n",
    "amp = []\n",
    "ampPerRadius = []\n",
    "\n",
    "volt = []\n",
    "voltPerRadius = []\n",
    "\n",
    "magneticField = []    \n",
    "magneticFieldPerRadius = []\n",
    "\n",
    "for raio in raios:\n",
    "    with open(f'data/raio{raio}cm.txt', 'rb') as f:\n",
    "        enc = chardet.detect(f.read())  # or readline if the file is large\n",
    "\n",
    "    file = pd.read_csv(f'data/raio{raio}cm.txt', header = None, sep='\\s+', encoding=enc['encoding'], dtype = np.float64)\n",
    "    \n",
    "    for data in [file[0]]:\n",
    "        amp.append(data)\n",
    "        B = np.sqrt((4.0/5.0)*(4.0/5.0)*(4.0/5.0)) * ((mu_0 * n * (data))/R)\n",
    "        magneticField.append(B)\n",
    "        \n",
    "    for data in [file[1]]:\n",
    "        volt.append(data)\n",
    "        \n",
    "    magneticFieldPerRadius.append(magneticField)\n",
    "    ampPerRadius.append(amp)\n",
    "    voltPerRadius.append(volt)\n",
    "    \n",
    "    amp = []\n",
    "    volt = []\n",
    "    magneticField = []\n",
    "\n",
    "#print(ampPerRadius)\n",
    "#print(voltPerRadius)\n",
    "#print(magneticFieldPerRadius)"
   ]
  },
  {
   "cell_type": "code",
   "execution_count": 64,
   "metadata": {},
   "outputs": [
    {
     "name": "stderr",
     "output_type": "stream",
     "text": [
      "c:\\Python310\\lib\\site-packages\\numpy\\core\\fromnumeric.py:3245: VisibleDeprecationWarning: Creating an ndarray from ragged nested sequences (which is a list-or-tuple of lists-or-tuples-or ndarrays with different lengths or shapes) is deprecated. If you meant to do this, you must specify 'dtype=object' when creating the ndarray.\n",
      "  return asarray(a).size\n"
     ]
    }
   ],
   "source": [
    "raios = [0.02, 0.03, 0.04, 0.05]\n",
    "\n",
    "chargePerMassPerRadius = []\n",
    "chargePerMass = []\n",
    "\n",
    "for i in range(np.size(voltPerRadius)):\n",
    "    j = 0\n",
    "    for volt in voltPerRadius[i]:\n",
    "        CpM = 2.0*(volt)/(raios[i]*raios[i]*(magneticFieldPerRadius[i][j])*(magneticFieldPerRadius[i][j]))\n",
    "        chargePerMass.append(CpM)\n",
    "        j = j + 1\n",
    "        \n",
    "    chargePerMassPerRadius.append(chargePerMass)\n",
    "    chargePerMass = []\n",
    "    \n",
    "#print(chargePerMassPerRadius)"
   ]
  },
  {
   "cell_type": "code",
   "execution_count": 69,
   "metadata": {},
   "outputs": [
    {
     "name": "stderr",
     "output_type": "stream",
     "text": [
      "c:\\Python310\\lib\\site-packages\\numpy\\core\\fromnumeric.py:3245: VisibleDeprecationWarning: Creating an ndarray from ragged nested sequences (which is a list-or-tuple of lists-or-tuples-or ndarrays with different lengths or shapes) is deprecated. If you meant to do this, you must specify 'dtype=object' when creating the ndarray.\n",
      "  return asarray(a).size\n"
     ]
    }
   ],
   "source": [
    "tab = '\\t'\n",
    "\n",
    "raio = []\n",
    "volts = []\n",
    "amps = []\n",
    "mF = []\n",
    "CpM = []\n",
    "\n",
    "for i in range(np.size(chargePerMassPerRadius)):\n",
    "       \n",
    "       for volt in voltPerRadius[i]:\n",
    "              for k in range(np.size(volt)):\n",
    "                     volts.append(volt[k])\n",
    "                     \n",
    "       for amp in ampPerRadius[i]:\n",
    "              for k in range(np.size(amp)):\n",
    "                     amps.append(amp[k])\n",
    "              \n",
    "       for campo in magneticFieldPerRadius[i]:\n",
    "              for k in range(np.size(campo)):\n",
    "                     mF.append(campo[k])\n",
    "              \n",
    "       for razao in chargePerMassPerRadius[i]:\n",
    "              for k in range(np.size(razao)):\n",
    "                     CpM.append(razao[k])\n",
    "              \n",
    "       dados = {\"voltagens\": volts,\n",
    "       \"amperagens\": amps,\n",
    "       \"campo\": mF,\n",
    "       \"razaoE/M\": CpM}\n",
    "       \n",
    "       dataFrame = pd.DataFrame(dados)\n",
    "       \n",
    "       j = i + 2\n",
    "\n",
    "       dataFrame.to_csv(f'results/dadosRaio{j}cm.dat', index=False, sep=tab)\n",
    "       \n",
    "       volts = []\n",
    "       amps = []\n",
    "       mF = []\n",
    "       CpM = []   "
   ]
  },
  {
   "cell_type": "code",
   "execution_count": 74,
   "metadata": {},
   "outputs": [
    {
     "name": "stdout",
     "output_type": "stream",
     "text": [
      "162855709311.20187\n",
      "6110430934.005543\n",
      "7.406267660268198\n",
      "162406941899.66785\n",
      "17804685340.88254\n",
      "7.661420210719911\n",
      "171255795604.17935\n",
      "2252848257.9449735\n",
      "2.6302893102779428\n",
      "175081674523.47476\n",
      "8375960443.743953\n",
      "0.4550360746635948\n"
     ]
    }
   ],
   "source": [
    "raios = [2, 3, 4, 5]\n",
    "\n",
    "for raio in raios:\n",
    "    file = pd.read_csv(f'results/dadosRaio{raio}cm.dat', header = 0, sep='\\s+', dtype = np.float64)\n",
    "    \n",
    "    media = file['razaoE/M'].mean()\n",
    "    desvioPadrao = file['razaoE/M'].std()\n",
    "    \n",
    "    erroPercentual = (abs(media - valorTeorico)/valorTeorico)*100\n",
    "    \n",
    "    resultados = {\"mediaE/M\": [media],\n",
    "    \"desvioPadraoE/M\": [desvioPadrao],\n",
    "    \"erroPercentual\": [erroPercentual]}\n",
    "    \n",
    "    dataFrame = pd.DataFrame(resultados)\n",
    "    \n",
    "    dataFrame.to_csv(f'results/resultadosRaio{raio}cm.dat', index=False, sep=tab)"
   ]
  }
 ],
 "metadata": {
  "kernelspec": {
   "display_name": "Python 3.10.2 64-bit",
   "language": "python",
   "name": "python3"
  },
  "language_info": {
   "codemirror_mode": {
    "name": "ipython",
    "version": 3
   },
   "file_extension": ".py",
   "mimetype": "text/x-python",
   "name": "python",
   "nbconvert_exporter": "python",
   "pygments_lexer": "ipython3",
   "version": "3.10.2"
  },
  "orig_nbformat": 4,
  "vscode": {
   "interpreter": {
    "hash": "369f2c481f4da34e4445cda3fffd2e751bd1c4d706f27375911949ba6bb62e1c"
   }
  }
 },
 "nbformat": 4,
 "nbformat_minor": 2
}
