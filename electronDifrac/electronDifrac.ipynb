{
 "cells": [
  {
   "cell_type": "markdown",
   "metadata": {},
   "source": [
    "Imports libraries"
   ]
  },
  {
   "cell_type": "code",
   "execution_count": 35,
   "metadata": {},
   "outputs": [],
   "source": [
    "import chardet\n",
    "import numpy as np\n",
    "import scipy as sp\n",
    "from scipy import stats\n",
    "import scipy.constants as constants\n",
    "import pandas as pd\n",
    "import matplotlib.pyplot as plt"
   ]
  },
  {
   "cell_type": "code",
   "execution_count": 36,
   "metadata": {},
   "outputs": [
    {
     "data": {
      "text/html": [
       "<div>\n",
       "<style scoped>\n",
       "    .dataframe tbody tr th:only-of-type {\n",
       "        vertical-align: middle;\n",
       "    }\n",
       "\n",
       "    .dataframe tbody tr th {\n",
       "        vertical-align: top;\n",
       "    }\n",
       "\n",
       "    .dataframe thead th {\n",
       "        text-align: right;\n",
       "    }\n",
       "</style>\n",
       "<table border=\"1\" class=\"dataframe\">\n",
       "  <thead>\n",
       "    <tr style=\"text-align: right;\">\n",
       "      <th></th>\n",
       "      <th>Voltagem (kV)</th>\n",
       "      <th>Raio interno (cm)</th>\n",
       "      <th>Raio externo (cm)</th>\n",
       "      <th>Comprimento de onda</th>\n",
       "      <th>Comprimento de onda (Picometro)</th>\n",
       "    </tr>\n",
       "  </thead>\n",
       "  <tbody>\n",
       "    <tr>\n",
       "      <th>0</th>\n",
       "      <td>2.0</td>\n",
       "      <td>4.7</td>\n",
       "      <td>7.1</td>\n",
       "      <td>#DIV/0!</td>\n",
       "      <td>#DIV/0!</td>\n",
       "    </tr>\n",
       "    <tr>\n",
       "      <th>1</th>\n",
       "      <td>2.5</td>\n",
       "      <td>3.7</td>\n",
       "      <td>6.2</td>\n",
       "      <td>#DIV/0!</td>\n",
       "      <td>#DIV/0!</td>\n",
       "    </tr>\n",
       "    <tr>\n",
       "      <th>2</th>\n",
       "      <td>3.0</td>\n",
       "      <td>3.2</td>\n",
       "      <td>5.1</td>\n",
       "      <td>#DIV/0!</td>\n",
       "      <td>#DIV/0!</td>\n",
       "    </tr>\n",
       "    <tr>\n",
       "      <th>3</th>\n",
       "      <td>3.5</td>\n",
       "      <td>2.9</td>\n",
       "      <td>4.8</td>\n",
       "      <td>#DIV/0!</td>\n",
       "      <td>#DIV/0!</td>\n",
       "    </tr>\n",
       "    <tr>\n",
       "      <th>4</th>\n",
       "      <td>4.0</td>\n",
       "      <td>2.6</td>\n",
       "      <td>4.4</td>\n",
       "      <td>#DIV/0!</td>\n",
       "      <td>#DIV/0!</td>\n",
       "    </tr>\n",
       "    <tr>\n",
       "      <th>5</th>\n",
       "      <td>4.5</td>\n",
       "      <td>2.3</td>\n",
       "      <td>4.2</td>\n",
       "      <td>#DIV/0!</td>\n",
       "      <td>#DIV/0!</td>\n",
       "    </tr>\n",
       "    <tr>\n",
       "      <th>6</th>\n",
       "      <td>5.0</td>\n",
       "      <td>2.3</td>\n",
       "      <td>3.8</td>\n",
       "      <td>#DIV/0!</td>\n",
       "      <td>#DIV/0!</td>\n",
       "    </tr>\n",
       "    <tr>\n",
       "      <th>7</th>\n",
       "      <td>5.5</td>\n",
       "      <td>2.3</td>\n",
       "      <td>3.7</td>\n",
       "      <td>#DIV/0!</td>\n",
       "      <td>#DIV/0!</td>\n",
       "    </tr>\n",
       "    <tr>\n",
       "      <th>8</th>\n",
       "      <td>6.0</td>\n",
       "      <td>2.2</td>\n",
       "      <td>3.4</td>\n",
       "      <td>#DIV/0!</td>\n",
       "      <td>#DIV/0!</td>\n",
       "    </tr>\n",
       "    <tr>\n",
       "      <th>9</th>\n",
       "      <td>6.5</td>\n",
       "      <td>2.0</td>\n",
       "      <td>3.3</td>\n",
       "      <td>#DIV/0!</td>\n",
       "      <td>#DIV/0!</td>\n",
       "    </tr>\n",
       "    <tr>\n",
       "      <th>10</th>\n",
       "      <td>7.0</td>\n",
       "      <td>1.8</td>\n",
       "      <td>3.1</td>\n",
       "      <td>#DIV/0!</td>\n",
       "      <td>#DIV/0!</td>\n",
       "    </tr>\n",
       "    <tr>\n",
       "      <th>11</th>\n",
       "      <td>7.5</td>\n",
       "      <td>1.8</td>\n",
       "      <td>2.7</td>\n",
       "      <td>#DIV/0!</td>\n",
       "      <td>#DIV/0!</td>\n",
       "    </tr>\n",
       "  </tbody>\n",
       "</table>\n",
       "</div>"
      ],
      "text/plain": [
       "    Voltagem (kV)  Raio interno (cm)  Raio externo (cm) Comprimento de onda  \\\n",
       "0             2.0                4.7                7.1             #DIV/0!   \n",
       "1             2.5                3.7                6.2             #DIV/0!   \n",
       "2             3.0                3.2                5.1             #DIV/0!   \n",
       "3             3.5                2.9                4.8             #DIV/0!   \n",
       "4             4.0                2.6                4.4             #DIV/0!   \n",
       "5             4.5                2.3                4.2             #DIV/0!   \n",
       "6             5.0                2.3                3.8             #DIV/0!   \n",
       "7             5.5                2.3                3.7             #DIV/0!   \n",
       "8             6.0                2.2                3.4             #DIV/0!   \n",
       "9             6.5                2.0                3.3             #DIV/0!   \n",
       "10            7.0                1.8                3.1             #DIV/0!   \n",
       "11            7.5                1.8                2.7             #DIV/0!   \n",
       "\n",
       "   Comprimento de onda (Picometro)  \n",
       "0                          #DIV/0!  \n",
       "1                          #DIV/0!  \n",
       "2                          #DIV/0!  \n",
       "3                          #DIV/0!  \n",
       "4                          #DIV/0!  \n",
       "5                          #DIV/0!  \n",
       "6                          #DIV/0!  \n",
       "7                          #DIV/0!  \n",
       "8                          #DIV/0!  \n",
       "9                          #DIV/0!  \n",
       "10                         #DIV/0!  \n",
       "11                         #DIV/0!  "
      ]
     },
     "execution_count": 36,
     "metadata": {},
     "output_type": "execute_result"
    }
   ],
   "source": [
    "dataFrame = pd.read_excel('difeletron.ods', engine='odf')\n",
    "\n",
    "dataFrame\n",
    "\n",
    "# print(dataFrame['Voltagem (kV)'])\n",
    "\n"
   ]
  },
  {
   "cell_type": "code",
   "execution_count": 37,
   "metadata": {},
   "outputs": [
    {
     "name": "stdout",
     "output_type": "stream",
     "text": [
      "[23.5, 18.5, 16.0, 14.5, 13.0, 11.5, 11.5, 11.5, 11.0, 10.0, 9.0, 9.0]\n",
      "[35.5, 31.0, 25.5, 24.0, 22.0, 21.0, 19.0, 18.5, 17.0, 16.5, 15.5, 13.5]\n"
     ]
    }
   ],
   "source": [
    "# d1 = [3.1, 2.8, 2.5, 2.3, 2.1, 2.0, 1.9, 1.7, 1.7, 1.5, 1.5, 1.7, 1.6, 1.5, 1.5, 1.4]\n",
    "# d2 = [5.5, 4.9, 4.3, 4.1, 3.9, 3.8, 3.6, 3.4, 3.1, 2.9, 2.9, 3.0, 2.9, 2.8, 2.7, 2.7]\n",
    "\n",
    "# d1 = [3.1, 3.4, 2.8, 2.9, 2.5, 2.9, 2.3, 2.6, 2.1, 2.4, 2.0, 2.2, 1.9, 2.1, 1.7, 2.0, 1.7, 2.0, 1.5, 1.8, 1.5, 1.9, 1.7, 1.7, 1.6, 1.7, 1.5, 1.7, 1.5, 1.5, 1.4]\n",
    "# d2 = [5.5, 5.7, 4.9, 4.9, 4.3, 5.2, 4.1, 4.7, 3.9, 4.2, 3.8, 3.9, 3.6, 3.8, 3.4, 3.6, 3.1, 3.5, 2.9, 3.3, 2.9, 3.2, 3.0, 3.0, 2.9, 2.9, 2.8, 2.9, 2.7, 2.7, 2.7]\n",
    "\n",
    "# D1 = [4.8, 3.8, 4.0, 3.5, 3.7, 3.4, 3.3, 3.0, 2.9, 2.7, 2.8, 2.6, 2.5, 2.4, 2.4, 2.4, 2.2, 2.3, 2.0, 2.2, 2.1, 2.1, 2.0, 2.0, 1.9, 2.0, 1.9, 1.9, 1.8, 1.7, 1.7]\n",
    "# D2 = [7.4, 7.4, 6.5, 5.9, 6.1, 5.9, 5.2, 5.1, 4.9, 4.7, 4.5, 4.5, 4.3, 4.0, 4.2, 3.9, 3.8, 3.8, 3.8, 3.7, 3.4, 3.5, 3.5, 3.4, 3.2, 3.2, 3.1, 3.1, 3.1, 2.9, 3.0]\n",
    "\n",
    "D1 = dataFrame['Raio interno (cm)']\n",
    "D2 = dataFrame['Raio externo (cm)']\n",
    "\n",
    "r1 = []\n",
    "r2 = []\n",
    "for i in range(len(D1)):\n",
    "  r1.append(D1[i]*10/2.0)\n",
    "  r2.append(D2[i]*10/2.0)\n",
    "\n",
    "dif1 = r1\n",
    "dif2 = r2\n",
    "\n",
    "# r1 = []\n",
    "# r2 = []\n",
    "# for i in range(len(d1)):\n",
    "#   r1.append(d1[i]*10/2.0)\n",
    "#   r2.append(d2[i]*10/2.0)\n",
    "\n",
    "# dif1 = []\n",
    "# dif2 = []\n",
    "# for i in range(len(R1)):\n",
    "#   dif1.append(np.abs(R1[i] - r1[i]))\n",
    "#   dif2.append(np.abs(R2[i] - r2[i]))\n",
    "\n",
    "# print(R1)\n",
    "# print(R2)\n",
    "\n",
    "# print(r1)\n",
    "# print(r2)\n",
    "\n",
    "print(dif1)\n",
    "print(dif2)"
   ]
  },
  {
   "cell_type": "code",
   "execution_count": 38,
   "metadata": {},
   "outputs": [
    {
     "name": "stdout",
     "output_type": "stream",
     "text": [
      "energia convertida:\n",
      "[2500.0, 2700.0, 3000.0, 3200.0, 3500.0, 3700.0, 4000.0, 4200.0, 4500.0, 4700.0, 5000.0, 5200.0, 5500.0, 5700.0, 6000.0, 6200.0, 6500.0, 6700.0, 7000.0, 7200.0, 7500.0, 7700.0, 8000.0, 8200.0, 8500.0, 8700.0, 9000.0, 9200.0, 9500.0, 9700.0, 10000.0]\n",
      "[2.4530388158482497e-12, 2.360437701104313e-12, 2.2393078231264125e-12, 2.1682004765001452e-12, 2.0731961922283505e-12, 2.0163854857309255e-12, 1.9392974617207035e-12, 1.8925605343621397e-12, 1.828387181227425e-12, 1.7890624300885514e-12, 1.734560381200116e-12, 1.7008763906239098e-12, 1.653838432261884e-12, 1.6245646423637632e-12, 1.5834297468967723e-12, 1.557681205745623e-12, 1.5213100923038195e-12, 1.4984319455831482e-12, 1.4659710862547956e-12, 1.44546698433343e-12, 1.4162626206625877e-12, 1.397748587659671e-12, 1.3712903859205686e-12, 1.3544640997747835e-12, 1.3303470834222377e-12, 1.3149668314572849e-12, 1.2928649744804692e-12, 1.2787348783646457e-12, 1.2583823609424527e-12, 1.2453417772977171e-12, 1.2265194079241249e-12]\n",
      "[24.5303881584825, 23.60437701104313, 22.393078231264123, 21.68200476500145, 20.731961922283507, 20.163854857309254, 19.392974617207035, 18.925605343621395, 18.28387181227425, 17.890624300885513, 17.34560381200116, 17.0087639062391, 16.538384322618843, 16.24564642363763, 15.834297468967723, 15.57681205745623, 15.213100923038194, 14.984319455831482, 14.659710862547955, 14.4546698433343, 14.162626206625877, 13.977485876596711, 13.712903859205687, 13.544640997747836, 13.303470834222377, 13.149668314572848, 12.928649744804693, 12.787348783646458, 12.583823609424527, 12.453417772977172, 12.26519407924125]\n"
     ]
    }
   ],
   "source": [
    "e = [2.5, 2.7, 3.0, 3.2, 3.5, 3.7, 4.0, 4.2, 4.5, 4.7, 5.0, 5.2, 5.5, 5.7, 6.0, 6.2, 6.5, 6.7, 7.0, 7.2, 7.5, 7.7, 8.0, 8.2, 8.5, 8.7, 9.0, 9.2, 9.5, 9.7, 10.0]\n",
    "# e = [4.0, 4.5, 5.0, 5.5, 6.0, 6.5]\n",
    "me = 9.109*10e-31\n",
    "qe = 1.602*10e-19\n",
    "h = constants.h\n",
    "\n",
    "# convertendo para volt: (deixar em SI)\n",
    "for i in range(len(e)):\n",
    "  e[i] = e[i]*1000\n",
    "print(\"energia convertida:\")\n",
    "print(e)\n",
    "\n",
    "lamb = [] \n",
    "for i in range(len(e)):\n",
    "  lamb.append((h/np.sqrt(2.0*me*qe*e[i])))\n",
    "print(lamb)\n",
    "\n",
    "# convertendo para picometro:\n",
    "for i in range(len(lamb)):\n",
    "  lamb[i] = lamb[i]*10e12\n",
    "print(lamb)"
   ]
  },
  {
   "cell_type": "code",
   "execution_count": 39,
   "metadata": {},
   "outputs": [
    {
     "name": "stdout",
     "output_type": "stream",
     "text": [
      "[0.09477344430078853, 0.07390645594345928, 0.06367846314017216, 0.0575947320190192, 0.05154553625133398, 0.0455268082248344, 0.0455268082248344, 0.0455268082248344, 0.04352665835615699, 0.039534652064273805, 0.035552786396441514, 0.035552786396441514]\n",
      "[0.14831143895426674, 0.12750335995787782, 0.10330893569146261, 0.0968960076923473, 0.08844780224565886, 0.08426359739405886, 0.07596683497381641, 0.07390645594345928, 0.06775556859330073, 0.06571477932776579, 0.06164645651220278, 0.05355835246025275]\n"
     ]
    }
   ],
   "source": [
    "D = 127.0\n",
    "\n",
    "theta1 = []\n",
    "for i in range(len(r1)):\n",
    "  theta1.append((1.0/4.0)*np.arcsin(2*r1[i]/D))\n",
    "print(theta1)\n",
    "\n",
    "theta2 = []\n",
    "for i in range(len(r2)):\n",
    "  theta2.append((1.0/4.0)*np.arcsin(2*r2[i]/D))\n",
    "print(theta2)"
   ]
  },
  {
   "cell_type": "code",
   "execution_count": 40,
   "metadata": {},
   "outputs": [
    {
     "name": "stdout",
     "output_type": "stream",
     "text": [
      "449.186289833565 -12.217056664621937\n",
      "284.08689652093574 -7.939121022512797\n"
     ]
    }
   ],
   "source": [
    "x = []\n",
    "y1 = []\n",
    "y2 = []\n",
    "for i in range(len(r1)):\n",
    "  x.append((1.0/lamb[i]))\n",
    "  y1.append(D/r1[i])\n",
    "  y2.append(D/r2[i])\n",
    "\n",
    "slope1, intercept1, r, p, std_err1 = stats.linregress(x, y1)\n",
    "print(slope1, intercept1)\n",
    "\n",
    "def myfunc(x):\n",
    "  return slope1*x + intercept1\n",
    "\n",
    "mymodel1 = list(map(myfunc, x))\n",
    "\n",
    "slope2, intercept2, r, p, std_err2 = stats.linregress(x, y2)\n",
    "print(slope2, intercept2)\n",
    "\n",
    "def myfunc(x):\n",
    "  return slope2*x + intercept2\n",
    "\n",
    "mymodel2 = list(map(myfunc, x))"
   ]
  },
  {
   "cell_type": "code",
   "execution_count": 42,
   "metadata": {},
   "outputs": [
    {
     "data": {
      "image/png": "[encoded data removed]",
      "text/plain": [
       "<Figure size 576x432 with 1 Axes>"
      ]
     },
     "metadata": {
      "needs_background": "light"
     },
     "output_type": "display_data"
    }
   ],
   "source": [
    "fig1 = plt.figure(figsize=(8,6))\n",
    "axes = fig1.add_axes([0.1,0.1,0.8,0.8])\n",
    "\n",
    "axes.plot(x, y1, \".\", 'o', color=\"#1f77b4\", label='Dados obtidos para o anel interno')\n",
    "axes.plot(x, y2, \".\", 'o', color=\"#ff7f0e\", label='Dados obtidos para o anel externo')\n",
    "axes.plot(x, mymodel1, \"-\", color=\"#1f77b4\", label='Ajuste linear do anel interno')\n",
    "axes.plot(x, mymodel2, \"-\", color=\"#ff7f0e\", label='Ajuste linear do anel externo')\n",
    "    \n",
    "axes.set_xlabel('$1/λ$ (pm)')\n",
    "axes.set_ylabel(\"$D/r$\")\n",
    "\n",
    "axes.set_title(f'Ajuste linear dos dados obtidos para cada anel')\n",
    "    \n",
    "plt.grid(linestyle='-', linewidth=0.5)\n",
    "axes.legend(loc='upper left')\n",
    "    \n",
    "plt.savefig(f'ajusteLinear.png', dpi=400)"
   ]
  }
 ],
 "metadata": {
  "kernelspec": {
   "display_name": "Python 3.10.4 64-bit",
   "language": "python",
   "name": "python3"
  },
  "language_info": {
   "codemirror_mode": {
    "name": "ipython",
    "version": 3
   },
   "file_extension": ".py",
   "mimetype": "text/x-python",
   "name": "python",
   "nbconvert_exporter": "python",
   "pygments_lexer": "ipython3",
   "version": "3.10.4"
  },
  "orig_nbformat": 4,
  "vscode": {
   "interpreter": {
    "hash": "916dbcbb3f70747c44a77c7bcd40155683ae19c65e1c03b4aa3499c5328201f1"
   }
  }
 },
 "nbformat": 4,
 "nbformat_minor": 2
}
